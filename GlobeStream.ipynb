{
 "cells": [
  {
   "cell_type": "markdown",
   "id": "c8dac265",
   "metadata": {},
   "source": [
    "# GlobeStream: Simulation of an Interactive Video Platform\n",
    "\n",
    "You will find below the code for the building blocks of the simulated video platform, the head function made up of all these blocks, and finally a call to the head function itself that allows you to directly dive in the programm. The successive development steps and their purposes are thoroughly explained. If you started by opening this notebook, feel free to consult as well the associated 'readme' file that gives more details about the followed logic. Hope you will enjoy going through this code!"
   ]
  },
  {
   "cell_type": "code",
   "execution_count": 1,
   "id": "cbfad01c",
   "metadata": {},
   "outputs": [],
   "source": [
    "from datetime import datetime\n",
    "import time\n",
    "import csv\n",
    "import random"
   ]
  },
  {
   "cell_type": "markdown",
   "id": "f389352b",
   "metadata": {},
   "source": [
    "## Addition of a Video to GlobeStream\n",
    "\n",
    "When adding a video, the user fills a certain part of the new record ('title', 'category', 'duration') while the rest is automatically created in the background. The 'publish' date attribute is the current datetime, 'days_online' and 'viewed' are of course starting at 0 (refreshed when running the 'refresh_videos_job'). The unique identifier is made equal to the starting nb. of rows of the 'videos' file: since as I noticed each addition of a record creates also an empty line, 'id' attributed in this way will be equal to the previous one plus 2. It actually doesn't really matter if the 'id' entries are not spaced one by one, as long as they are unique. For this project I imagine no video can be removed therefore there is no risk that removing a record and setting id for a new one based on the new reduced length will conflict with a pre-existing record."
   ]
  },
  {
   "cell_type": "markdown",
   "id": "6202278e",
   "metadata": {},
   "source": [
    "#### Helper function: convert duration input to number with decimals\n",
    "\n",
    "First thing, I design a helper function that converts the duration entered by the user into a decimal number expressing the nb. of minuts. This is intended to later on ease the advanced search process in which the user enters a min. and max. duration in minuts"
   ]
  },
  {
   "cell_type": "code",
   "execution_count": 2,
   "id": "ecb22e40",
   "metadata": {},
   "outputs": [
    {
     "name": "stdout",
     "output_type": "stream",
     "text": [
      "0.28\n"
     ]
    }
   ],
   "source": [
    "def convert_minuts_decimal(duration):\n",
    "    if len(duration.split(':')) ==3:\n",
    "        hours = int(duration.split(':')[0])*60\n",
    "        mins = int(duration.split(':')[1])\n",
    "        secs = round(int(duration.split(':')[2])/60,2)\n",
    "        return hours+mins+secs\n",
    "    elif len(duration.split(':')) ==2:\n",
    "        mins = int(duration.split(':')[0])\n",
    "        secs = round(int(duration.split(':')[1])/60,2)\n",
    "        return mins+secs\n",
    "\n",
    "print(convert_minuts_decimal('0:17'))\n",
    "    "
   ]
  },
  {
   "cell_type": "markdown",
   "id": "a0af47c3",
   "metadata": {},
   "source": [
    "#### Main Add Function"
   ]
  },
  {
   "cell_type": "code",
   "execution_count": 3,
   "id": "eca86df4",
   "metadata": {},
   "outputs": [],
   "source": [
    "def add_video(title,category,duration):\n",
    "    with open('videos.csv') as videos:\n",
    "        len = sum(1 for row in videos)\n",
    "    with open('videos.csv', 'a') as videos:\n",
    "        fields = ['id','title', 'category', 'duration', 'publish_date', 'days_online', 'viewed']\n",
    "        output_writer = csv.DictWriter(videos, fieldnames= fields)        \n",
    "        output_writer.writerow({'id': len,'title': title, 'category': category, 'duration': convert_minuts_decimal(duration), 'publish_date': datetime.now(),\\\n",
    "                                'days_online':0, 'viewed':0})\n",
    "    print('Video added! Thanks for your contribution!')"
   ]
  },
  {
   "cell_type": "markdown",
   "id": "76f78652",
   "metadata": {},
   "source": [
    "## Refresh the Videos Background File\n",
    "\n",
    "The below coded function deals with two types of video metadata that are time-sensitive:\n",
    "\n",
    "1) the nb. of days that elapsed since the video was uploaded ('days_online'): it is done by substracting the datetime of when this happened from the '.now()' datetime of when the refresh takes place\n",
    "2) the nb. of times the video was viewed overall ('viewed') : this is done by taking the 'viewed' number as it is currently in the file and by incrementing it using both a) the number of days since the last refresh multiplied by b) the average number of daily views during this period, which is determined by a function returning a random integer between 3000 and 70000"
   ]
  },
  {
   "cell_type": "code",
   "execution_count": 4,
   "id": "72fd274b",
   "metadata": {},
   "outputs": [],
   "source": [
    "def refresh_videos_job():\n",
    "    # 1) download current videos data and store them in temp list 'records'\n",
    "    with open('videos.csv', newline = \"\") as unrefreshed_videos:\n",
    "        videos_dict = csv.DictReader(unrefreshed_videos)\n",
    "        records = []\n",
    "        for row in videos_dict:        \n",
    "            records.append(row)\n",
    "    for video in records:\n",
    "        # 2) refresh nb. of views\n",
    "        now = datetime.now()\n",
    "        publish = datetime.strptime(video['publish_date'], '%Y-%m-%d %H:%M:%S.%f')\n",
    "        refresh_lapse = ((now-publish).days) -int(video['days_online'])\n",
    "        viewed_new = random.randint(3000,70000)*refresh_lapse\n",
    "        video['viewed'] = int(video['viewed'])+viewed_new\n",
    "        # 3) refresh nb. of days online\n",
    "        video['days_online'] = (now-publish).days\n",
    "    # 4) erase initial records with the refreshed ones\n",
    "    with open('videos.csv', 'w') as videos_refresh:\n",
    "        fields = ['id','title', 'category', 'duration', 'publish_date', 'days_online', 'viewed']\n",
    "        output_writer = csv.DictWriter(videos_refresh, fieldnames = fields)\n",
    "        output_writer.writeheader()\n",
    "        for video in records:\n",
    "            output_writer.writerow(video)\n",
    "    \n"
   ]
  },
  {
   "cell_type": "markdown",
   "id": "b1cb9ad4",
   "metadata": {},
   "source": [
    "## Search & Watch Videos\n",
    "\n",
    "User will have the possibility to make either an advanced search, being prompted for nearly all the possible types of metadata, or to just type in some text elements that will be matched with the in-store videos' titles. For this I will first store the records in a temporary list. I assume that the downloaded records were already subject to the 'refresh_videos_job' function and therefore have up to date 'days_online' and 'viewed' attributes.\n",
    "\n",
    "Based on the results returned by the search function, a watch function will allow the user to simulate chosing one of the results based on the video 'id' and watch it. Of course it will not launch any video whatsoever, we will just imagine that by chosing one number the user watches the video. \n",
    "\n",
    "Neither will I, for the sake of keeping the complexity of functions in reasonable boundaries, automatically add one to the views count of the watched video in the file. Making again a call to our imaginations, let's pretend that views count is incremented in bulk every some time period."
   ]
  },
  {
   "cell_type": "markdown",
   "id": "4170b7d0",
   "metadata": {},
   "source": [
    "#### Conditions-Checking Helper Functions\n",
    "\n",
    "Helper functions that check dictionaries from a list of dictionaries and select according to a criteria and an operator. If any of the helper functions used successively for an advanced search returns 'False', the search will stop because it will mean that no result matches ALL the criteria. \n",
    "\n",
    "Note that the input from which the function takes records to check varies: it is because when checking for a criteria, we can either be in the case of restricting some selection that can't grow anymore, or to look in the whole set of records. \n",
    "\n",
    "The first case is when we had already some condition checks made and a list of results still needing to be checked against the following criteria was built: in this potentiality we check in the input 'selection'. \n",
    "\n",
    "The second case is either when we are starting the check of the conditions or when the user refused to do a check versus the previous criteria proposed (which will be possible, by pressing 'x'). In which case the condition-checking function applies to the whole set of videos records."
   ]
  },
  {
   "cell_type": "code",
   "execution_count": 5,
   "id": "c3e2f150",
   "metadata": {},
   "outputs": [],
   "source": [
    "import operator\n",
    "\n",
    "def append_criteria_equal(field,criteria, videos, selection):\n",
    "        if selection == []:\n",
    "            for video in videos:\n",
    "                if criteria.upper() in video[field].upper():\n",
    "                    selection.append(video)\n",
    "        else:\n",
    "            selection = [video for video in selection if criteria in video[field]]\n",
    "        return selection != []\n",
    "    \n",
    "def append_criteria_between(criteria, videos, selection):\n",
    "        if selection == []:\n",
    "            for video in videos:\n",
    "                if float(video['duration']) >= float(criteria[0]) and float(video['duration']) <= float(criteria[1]):\n",
    "                    selection.append(video)\n",
    "        else:\n",
    "            selection = [video for video in selection if float(video['duration']) >= float(criteria[0]) and float(video['duration']) <= float(criteria[1])]\n",
    "        return selection != []\n",
    "\n",
    "\n",
    "def append_criteria_superior(field,criteria, videos, selection):\n",
    "        if selection == []:\n",
    "            for video in videos:\n",
    "                if float(video[field]) >= criteria:\n",
    "                    selection.append(video)\n",
    "        else:\n",
    "            selection = [video for video in selection if float(video[field])>= float(criteria)]\n",
    "        return selection != []\n",
    "    \n",
    "def append_criteria_inferior(field,criteria, videos, selection):\n",
    "        if selection == []:\n",
    "            for video in videos:\n",
    "                if float(video[field]) <= criteria:\n",
    "                    selection.append(video)\n",
    "        else:\n",
    "            selection = [video for video in selection if float(video[field])<= float(criteria)]\n",
    "        return selection != []"
   ]
  },
  {
   "cell_type": "markdown",
   "id": "8c35e6d3",
   "metadata": {},
   "source": [
    "#### The Search Function"
   ]
  },
  {
   "cell_type": "code",
   "execution_count": 6,
   "id": "ebcfec11",
   "metadata": {},
   "outputs": [],
   "source": [
    "def search_video(Advanced = False):\n",
    "    with open('videos.csv') as videos:\n",
    "        videos_dict = csv.DictReader(videos)\n",
    "        records = []\n",
    "        for row in videos_dict:\n",
    "            records.append(row)\n",
    "    if Advanced:\n",
    "        advanced_search_return = []\n",
    "        print('\\nADVANCED SEARCH. IF NO PREFERENCE FOR THE GIVEN CRITERIA JUST PRESS X')\n",
    "        # series of inputs the user has to enter and that get check with the appropriate above-coded helper function\n",
    "        kw = input('Enter keyword(s): ')\n",
    "        if kw.upper() != 'X':\n",
    "            if append_criteria_equal('title', kw, records, advanced_search_return) == False:\n",
    "                print('No results found!')\n",
    "                return None\n",
    "        cat = input('Choose category from Fun/News/Sport:')\n",
    "        if cat.upper() != 'X':\n",
    "            if append_criteria_equal('category', cat, records, advanced_search_return) == False:\n",
    "                print('No results found!')\n",
    "                return None\n",
    "        duration_min = input('Choose min. duration (minuts):')\n",
    "        duration_max = input('Choose max. duration (minuts):')\n",
    "        # possible to enter 0,1 or 2 boundaries for the duration of the video\n",
    "        if duration_min.upper() != 'X' and duration_max.upper() != 'X':\n",
    "            if append_criteria_between([duration_min, duration_max], records, advanced_search_return) == False:\n",
    "                print('No results found!')\n",
    "                return None\n",
    "        elif duration_min.upper() != 'X' and duration_max.upper() == 'X':\n",
    "            if append_criteria_superior('duration',duration_min, records, advanced_search_return)== False:\n",
    "                print('No results found!')\n",
    "                return None\n",
    "        elif duration_min.upper() == 'X' and duration_max.upper() != 'X':\n",
    "            if append_criteria_inferior('duration',duration_max, records, advanced_search_return)== False:\n",
    "                print('No results found!')\n",
    "                return None\n",
    "        recentness = input('Not older than how many days:')\n",
    "        if recentness.upper() != 'X':\n",
    "            if append_criteria_inferior('days_online',recentness, records, advanced_search_return)== False:\n",
    "                print('No results found!')\n",
    "                return None     \n",
    "        popularity = input('At least how many views:')\n",
    "        if popularity.upper() != 'X':\n",
    "            if append_criteria_superior('viewed',popularity, records, advanced_search_return)== False:\n",
    "                print('No results found!')\n",
    "                return None\n",
    "        for video in advanced_search_return:\n",
    "                print('\\n')\n",
    "                print(video['id']+':'+video['title'])\n",
    "                print('Category: '+video['category'])\n",
    "                duration_split = video['duration'].split('.')\n",
    "                duration_split = [float(t) for t in duration_split]\n",
    "                if duration_split[0] >= 60:\n",
    "                    print(f'Duration: {int(duration_split[0]//60)}:{int(duration_split[0]%60)}:{int((duration_split[1]*0.6))}')\n",
    "                else:\n",
    "                    print(f'Duration: {int(duration_split[0])}:{int((duration_split[1]*0.6))}')                  \n",
    "                print('Uploaded '+ video['days_online']+ ' days ago')\n",
    "                print(video['viewed'] +' views')\n",
    "        return advanced_search_return\n",
    "\n",
    "    else:\n",
    "        title = input('\\nType what you search for and press Enter: ')\n",
    "        basic_search_return = []\n",
    "        for video in records:\n",
    "            if (title.upper() in video['title'].upper()):\n",
    "                print('\\n')\n",
    "                print(video['id']+':'+video['title'])\n",
    "                print('Category: '+video['category'])  \n",
    "                duration_split = video['duration'].split('.')\n",
    "                duration_split = [float(t) for t in duration_split]\n",
    "                if duration_split[0] >= 60:\n",
    "                    print(f'Duration: {int(duration_split[0]//60)}:{int(duration_split[0]%60)}:{int((duration_split[1]*0.6))}')\n",
    "                else:\n",
    "                    print(f'Duration: {int(duration_split[0])}:{int((duration_split[1]*0.6))}')                  \n",
    "                print('Uploaded '+ video['days_online']+ ' days ago')\n",
    "                print(video['viewed'] +' views')                \n",
    "                basic_search_return.append(video)\n",
    "        if basic_search_return == []:\n",
    "            print('No results found!')\n",
    "            return None\n",
    "        else:\n",
    "            return basic_search_return\n",
    "    \n",
    "            \n",
    "        \n",
    "    "
   ]
  },
  {
   "cell_type": "markdown",
   "id": "15b54c02",
   "metadata": {},
   "source": [
    "####  The Watch Function\n",
    "\n",
    "The input of this function is going to be the results that the search function returned, allowing to make a choice between them."
   ]
  },
  {
   "cell_type": "code",
   "execution_count": 7,
   "id": "1b0e75c0",
   "metadata": {},
   "outputs": [],
   "source": [
    "def watch_video(videos):\n",
    "    id = input('Type the id of the video you want to watch (close search press X): ')\n",
    "    if id.upper() == 'X':\n",
    "        return\n",
    "    video = [vid for vid in videos if vid['id']==id]\n",
    "    print('\\nLoading '+'\\''+video[0]['title']+'\\'')\n",
    "    print('\\nWatching '+'\\''+video[0]['title']+'\\'')\n",
    "    print('\\nThe End! Hope you enjoyed watching '+'\\''+video[0]['title']+'\\'')"
   ]
  },
  {
   "cell_type": "markdown",
   "id": "94dd729c",
   "metadata": {},
   "source": [
    "## Assemblying the Building Blocks\n",
    "\n",
    "Now that we have a function to refresh the background data, a function to add a video, a function to search videos, a function to watch a video, all we need to do is to make these functions work together in a coherent program that streamlines the experience of a user while connected on a video platform. This is achieved thanks to the below coded function.\n",
    "\n",
    "Note the recursive approach through which after each action of adding or watching a video, the function calls itself again, allowing the user to simply restart from front page, and over, until the program gets stopped somehow. However while the initial call triggers a refresh of the base of videos, the following don't because it's useless to repeat it."
   ]
  },
  {
   "cell_type": "code",
   "execution_count": 8,
   "id": "4c2d051c",
   "metadata": {},
   "outputs": [],
   "source": [
    "def GlobeStream(refresh = True):\n",
    "    if refresh == True:\n",
    "        refresh_videos_job()\n",
    "    choice = input('\\nHello! Add a video (+) or search for one (s): ' )\n",
    "    if choice == '+':\n",
    "        add_video(input('\\nVideo title: '), input('Video category from Fun/News/Sport: '), input('Enter video duration (mm:ss or hh:mm:ss) '))\n",
    "        GlobeStream(refresh = False)\n",
    "    else:\n",
    "        search_type = input('Choose advanced (a) or simple (s) search: ')\n",
    "        if search_type.upper() == 'A':\n",
    "            result = search_video(Advanced = True)\n",
    "            if result:\n",
    "                watch_video(result)\n",
    "                GlobeStream(refresh = False)\n",
    "            else:\n",
    "                GlobeStream(refresh = False)                    \n",
    "        else:\n",
    "            result = search_video(Advanced = False)\n",
    "            if result:\n",
    "                watch_video(result)\n",
    "                GlobeStream(refresh = False)\n",
    "            else:\n",
    "                GlobeStream(refresh = False) \n",
    "            \n",
    "            \n",
    "            "
   ]
  },
  {
   "cell_type": "code",
   "execution_count": null,
   "id": "8fc15084",
   "metadata": {},
   "outputs": [],
   "source": [
    "GlobeStream()"
   ]
  },
  {
   "cell_type": "code",
   "execution_count": null,
   "id": "aef36e25",
   "metadata": {},
   "outputs": [],
   "source": []
  },
  {
   "cell_type": "code",
   "execution_count": null,
   "id": "04210b1a",
   "metadata": {},
   "outputs": [],
   "source": []
  },
  {
   "cell_type": "code",
   "execution_count": null,
   "id": "6cbdf9f3",
   "metadata": {},
   "outputs": [],
   "source": []
  }
 ],
 "metadata": {
  "kernelspec": {
   "display_name": "Python 3 (ipykernel)",
   "language": "python",
   "name": "python3"
  },
  "language_info": {
   "codemirror_mode": {
    "name": "ipython",
    "version": 3
   },
   "file_extension": ".py",
   "mimetype": "text/x-python",
   "name": "python",
   "nbconvert_exporter": "python",
   "pygments_lexer": "ipython3",
   "version": "3.11.5"
  }
 },
 "nbformat": 4,
 "nbformat_minor": 5
}
